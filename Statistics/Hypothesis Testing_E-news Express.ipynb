{
 "cells": [
  {
   "cell_type": "markdown",
   "id": "4c5517f1",
   "metadata": {},
   "source": [
    "# E-news Express\n",
    "\n",
    "## Background: \n",
    "An online news portal aims to expand its business by acquiring new subscribers. Every visitor to the website takes certain actions based on their interest. The company plans to analyze these interests and wants to determine whether a new feature will be effective or not. Companies often analyze users' responses to two variants of a product to decide which of the two variants is more effective. This experimental technique is known as a/b testing that is used to determine whether a new feature attracts users based on a chosen metric.\n",
    "Suppose you are hired as a Data Scientist in E-news Express. The design team of the company has created a new landing page. You have been assigned the task to decide whether the new landing page is more effective to gather new subscribers. Suppose you randomly selected 100 users and divided them equally into two groups. The old landing page is served to the first group (control group) and the new landing page is served to the second group (treatment group). Various data about the customers in both groups are collected in 'abtest.csv'. Perform the statistical analysis to answer the following questions using the collected data."
   ]
  },
  {
   "cell_type": "markdown",
   "id": "3b0b3b1e",
   "metadata": {},
   "source": [
    "## Objective:\n",
    "Statistical analysis of business data from E-news Express a/b Testing project. We will explore the dataset and extract insights from the data to help E-News Express aquire more subscribers. \n",
    "\n",
    "Through the means of statistical analysis, we will aim to answer the following questions:\n",
    "1.\tExplore the dataset and extract insights using Exploratory Data Analysis.\n",
    "2.\tDo the users spend more time on the new landing page than the old landing page?\n",
    "3.\tIs the conversion rate (the proportion of users who visit the landing page and get converted) for the new page greater than the conversion rate for the old page?\n",
    "4.\tDoes the converted status depend on the preferred language? \n",
    "5.\tIs the mean time spent on the new page same for the different language users?\n",
    "\n",
    "**We will consider a significance level of 0.05 for all tests.**\n"
   ]
  },
  {
   "cell_type": "markdown",
   "id": "b5a7492a",
   "metadata": {},
   "source": [
    "### Data Dictionary:\n",
    "1.\tuser_id - This represents the user ID of the person visiting the website.\n",
    "2.\tgroup - This represents whether the user belongs to the first group (control) or the second group (treatment).\n",
    "3.\tlanding_page - This represents whether the landing page is new or old.\n",
    "4.\ttime_spent_on_the_page - This represents the time (in minutes) spent by the user on the landing page.\n",
    "5.\tconverted - This represents whether the user gets converted to a subscriber of the news portal or not.\n",
    "6.\tlanguage_preferred - This represents the language chosen by the user to view the landing page.\n"
   ]
  },
  {
   "cell_type": "markdown",
   "id": "eaa32c4c",
   "metadata": {},
   "source": [
    "### Import the required libraries"
   ]
  },
  {
   "cell_type": "code",
   "execution_count": 73,
   "id": "60282b48",
   "metadata": {},
   "outputs": [],
   "source": [
    "#import the important packages\n",
    "import pandas as pd #library used for data manipulation and analysis\n",
    "import numpy as np # library used for working with arrays.\n",
    "import matplotlib.pyplot as plt # library for plots and visualisations\n",
    "import seaborn as sns # library for visualisations\n",
    "%matplotlib inline \n",
    "\n",
    "import scipy.stats as stats # this library contains a large number of probability distributions as well as a growing library of statistical functions."
   ]
  },
  {
   "cell_type": "markdown",
   "id": "7ab11ffc",
   "metadata": {},
   "source": [
    "## Data Processing and Exploration"
   ]
  },
  {
   "cell_type": "markdown",
   "id": "afb828e9",
   "metadata": {},
   "source": [
    "#### Load the Dataset"
   ]
  },
  {
   "cell_type": "code",
   "execution_count": 74,
   "id": "f498301b",
   "metadata": {},
   "outputs": [],
   "source": [
    "#Load the a/b Test data into a dataframe\n",
    "enews = pd.read_csv('..data/enews_abtest.csv')"
   ]
  },
  {
   "cell_type": "code",
   "execution_count": 75,
   "id": "dbd2e30d",
   "metadata": {},
   "outputs": [
    {
     "data": {
      "text/html": [
       "<div>\n",
       "<style scoped>\n",
       "    .dataframe tbody tr th:only-of-type {\n",
       "        vertical-align: middle;\n",
       "    }\n",
       "\n",
       "    .dataframe tbody tr th {\n",
       "        vertical-align: top;\n",
       "    }\n",
       "\n",
       "    .dataframe thead th {\n",
       "        text-align: right;\n",
       "    }\n",
       "</style>\n",
       "<table border=\"1\" class=\"dataframe\">\n",
       "  <thead>\n",
       "    <tr style=\"text-align: right;\">\n",
       "      <th></th>\n",
       "      <th>user_id</th>\n",
       "      <th>group</th>\n",
       "      <th>landing_page</th>\n",
       "      <th>time_spent_on_the_page</th>\n",
       "      <th>converted</th>\n",
       "      <th>language_preferred</th>\n",
       "    </tr>\n",
       "  </thead>\n",
       "  <tbody>\n",
       "    <tr>\n",
       "      <th>0</th>\n",
       "      <td>546592</td>\n",
       "      <td>control</td>\n",
       "      <td>old</td>\n",
       "      <td>3.48</td>\n",
       "      <td>no</td>\n",
       "      <td>Spanish</td>\n",
       "    </tr>\n",
       "    <tr>\n",
       "      <th>1</th>\n",
       "      <td>546468</td>\n",
       "      <td>treatment</td>\n",
       "      <td>new</td>\n",
       "      <td>7.13</td>\n",
       "      <td>yes</td>\n",
       "      <td>English</td>\n",
       "    </tr>\n",
       "    <tr>\n",
       "      <th>2</th>\n",
       "      <td>546462</td>\n",
       "      <td>treatment</td>\n",
       "      <td>new</td>\n",
       "      <td>4.40</td>\n",
       "      <td>no</td>\n",
       "      <td>Spanish</td>\n",
       "    </tr>\n",
       "    <tr>\n",
       "      <th>3</th>\n",
       "      <td>546567</td>\n",
       "      <td>control</td>\n",
       "      <td>old</td>\n",
       "      <td>3.02</td>\n",
       "      <td>no</td>\n",
       "      <td>French</td>\n",
       "    </tr>\n",
       "    <tr>\n",
       "      <th>4</th>\n",
       "      <td>546459</td>\n",
       "      <td>treatment</td>\n",
       "      <td>new</td>\n",
       "      <td>4.75</td>\n",
       "      <td>yes</td>\n",
       "      <td>Spanish</td>\n",
       "    </tr>\n",
       "  </tbody>\n",
       "</table>\n",
       "</div>"
      ],
      "text/plain": [
       "   user_id      group landing_page  time_spent_on_the_page converted  \\\n",
       "0   546592    control          old                    3.48        no   \n",
       "1   546468  treatment          new                    7.13       yes   \n",
       "2   546462  treatment          new                    4.40        no   \n",
       "3   546567    control          old                    3.02        no   \n",
       "4   546459  treatment          new                    4.75       yes   \n",
       "\n",
       "  language_preferred  \n",
       "0            Spanish  \n",
       "1            English  \n",
       "2            Spanish  \n",
       "3             French  \n",
       "4            Spanish  "
      ]
     },
     "execution_count": 75,
     "metadata": {},
     "output_type": "execute_result"
    }
   ],
   "source": [
    "#View the first few rows of the data\n",
    "enews.head()"
   ]
  },
  {
   "cell_type": "code",
   "execution_count": 76,
   "id": "88451398",
   "metadata": {},
   "outputs": [
    {
     "name": "stdout",
     "output_type": "stream",
     "text": [
      "<class 'pandas.core.frame.DataFrame'>\n",
      "RangeIndex: 100 entries, 0 to 99\n",
      "Data columns (total 6 columns):\n",
      " #   Column                  Non-Null Count  Dtype  \n",
      "---  ------                  --------------  -----  \n",
      " 0   user_id                 100 non-null    int64  \n",
      " 1   group                   100 non-null    object \n",
      " 2   landing_page            100 non-null    object \n",
      " 3   time_spent_on_the_page  100 non-null    float64\n",
      " 4   converted               100 non-null    object \n",
      " 5   language_preferred      100 non-null    object \n",
      "dtypes: float64(1), int64(1), object(4)\n",
      "memory usage: 4.8+ KB\n"
     ]
    }
   ],
   "source": [
    "#Check the data-type and shape from the below summary\n",
    "enews.info()"
   ]
  },
  {
   "cell_type": "code",
   "execution_count": 77,
   "id": "ddf50570",
   "metadata": {},
   "outputs": [
    {
     "data": {
      "text/plain": [
       "landing_page  group    \n",
       "new           treatment    50\n",
       "old           control      50\n",
       "Name: group, dtype: int64"
      ]
     },
     "execution_count": 77,
     "metadata": {},
     "output_type": "execute_result"
    }
   ],
   "source": [
    "#Check all the values group column has \n",
    "#Also confirm if data reflects the given condition of old and new landing page given to control and treatment group respectively\n",
    "enews['group'].groupby(enews['landing_page']).value_counts()"
   ]
  },
  {
   "cell_type": "code",
   "execution_count": 78,
   "id": "8af5e98d",
   "metadata": {},
   "outputs": [
    {
     "data": {
      "text/plain": [
       "100"
      ]
     },
     "execution_count": 78,
     "metadata": {},
     "output_type": "execute_result"
    }
   ],
   "source": [
    "# Count the number of unique  user_id\n",
    "enews['user_id'].nunique()"
   ]
  },
  {
   "cell_type": "markdown",
   "id": "2975c5bb",
   "metadata": {},
   "source": [
    "###### Observations\n",
    "* There are 100 records in total with no missing values\n",
    "* There are 5 categorical variables (user_id,group,landing_page,converted,language_preferred)\n",
    "* time_spent_on_the_page is the only numerical column with continous data we can use for analysis\n",
    "* Categorical variables group and landing_page are interchangable \n",
    "* Do not have the same user more than once in the dataset"
   ]
  },
  {
   "cell_type": "markdown",
   "id": "ad63bdd5",
   "metadata": {},
   "source": [
    "#### Let's check the count of each unique category in rest of the categorical variables."
   ]
  },
  {
   "cell_type": "code",
   "execution_count": 79,
   "id": "87eea5d0",
   "metadata": {},
   "outputs": [
    {
     "data": {
      "text/plain": [
       "yes    54\n",
       "no     46\n",
       "Name: converted, dtype: int64"
      ]
     },
     "execution_count": 79,
     "metadata": {},
     "output_type": "execute_result"
    }
   ],
   "source": [
    "#Check all converted values and their counts\n",
    "enews['converted'].value_counts()"
   ]
  },
  {
   "cell_type": "code",
   "execution_count": 80,
   "id": "6609d651",
   "metadata": {},
   "outputs": [
    {
     "data": {
      "text/plain": [
       "French     34\n",
       "Spanish    34\n",
       "English    32\n",
       "Name: language_preferred, dtype: int64"
      ]
     },
     "execution_count": 80,
     "metadata": {},
     "output_type": "execute_result"
    }
   ],
   "source": [
    "#Check all language_preferred values and their counts\n",
    "enews['language_preferred'].value_counts()"
   ]
  },
  {
   "cell_type": "code",
   "execution_count": 81,
   "id": "2aaa8e15",
   "metadata": {},
   "outputs": [],
   "source": [
    "#Drop the user_id column as we do not need it for our statistical analysis\n",
    "enews_df = enews.drop(columns=['user_id'],axis = 1)"
   ]
  },
  {
   "cell_type": "code",
   "execution_count": 82,
   "id": "991075ce",
   "metadata": {},
   "outputs": [
    {
     "name": "stdout",
     "output_type": "stream",
     "text": [
      "<class 'pandas.core.frame.DataFrame'>\n",
      "RangeIndex: 100 entries, 0 to 99\n",
      "Data columns (total 5 columns):\n",
      " #   Column                  Non-Null Count  Dtype  \n",
      "---  ------                  --------------  -----  \n",
      " 0   group                   100 non-null    object \n",
      " 1   landing_page            100 non-null    object \n",
      " 2   time_spent_on_the_page  100 non-null    float64\n",
      " 3   converted               100 non-null    object \n",
      " 4   language_preferred      100 non-null    object \n",
      "dtypes: float64(1), object(4)\n",
      "memory usage: 4.0+ KB\n"
     ]
    }
   ],
   "source": [
    "# Check the new dataframe\n",
    "enews_df.info()"
   ]
  },
  {
   "cell_type": "markdown",
   "id": "e0441dd7",
   "metadata": {},
   "source": [
    "#### Summary statistic and Data processing"
   ]
  },
  {
   "cell_type": "code",
   "execution_count": 83,
   "id": "aa4e5b4f",
   "metadata": {},
   "outputs": [
    {
     "data": {
      "text/html": [
       "<div>\n",
       "<style scoped>\n",
       "    .dataframe tbody tr th:only-of-type {\n",
       "        vertical-align: middle;\n",
       "    }\n",
       "\n",
       "    .dataframe tbody tr th {\n",
       "        vertical-align: top;\n",
       "    }\n",
       "\n",
       "    .dataframe thead th {\n",
       "        text-align: right;\n",
       "    }\n",
       "</style>\n",
       "<table border=\"1\" class=\"dataframe\">\n",
       "  <thead>\n",
       "    <tr style=\"text-align: right;\">\n",
       "      <th></th>\n",
       "      <th>count</th>\n",
       "      <th>mean</th>\n",
       "      <th>std</th>\n",
       "      <th>min</th>\n",
       "      <th>25%</th>\n",
       "      <th>50%</th>\n",
       "      <th>75%</th>\n",
       "      <th>max</th>\n",
       "    </tr>\n",
       "  </thead>\n",
       "  <tbody>\n",
       "    <tr>\n",
       "      <th>time_spent_on_the_page</th>\n",
       "      <td>100.0</td>\n",
       "      <td>5.3778</td>\n",
       "      <td>2.378166</td>\n",
       "      <td>0.19</td>\n",
       "      <td>3.88</td>\n",
       "      <td>5.415</td>\n",
       "      <td>7.0225</td>\n",
       "      <td>10.71</td>\n",
       "    </tr>\n",
       "  </tbody>\n",
       "</table>\n",
       "</div>"
      ],
      "text/plain": [
       "                        count    mean       std   min   25%    50%     75%  \\\n",
       "time_spent_on_the_page  100.0  5.3778  2.378166  0.19  3.88  5.415  7.0225   \n",
       "\n",
       "                          max  \n",
       "time_spent_on_the_page  10.71  "
      ]
     },
     "execution_count": 83,
     "metadata": {},
     "output_type": "execute_result"
    }
   ],
   "source": [
    "# Let's get statistical summary for the original sample\n",
    "enews_df.describe().T"
   ]
  },
  {
   "cell_type": "code",
   "execution_count": 84,
   "id": "b09aca22",
   "metadata": {},
   "outputs": [],
   "source": [
    "#Create separate dataframes for the controled and treatment groups for ease of analysis\n",
    "control_df = enews_df[enews_df['group'] == 'control'].copy()\n",
    "treatment_df = enews_df[enews_df['group'] == 'treatment'].copy()"
   ]
  },
  {
   "cell_type": "code",
   "execution_count": 85,
   "id": "c0de2f49",
   "metadata": {},
   "outputs": [
    {
     "data": {
      "text/html": [
       "<div>\n",
       "<style scoped>\n",
       "    .dataframe tbody tr th:only-of-type {\n",
       "        vertical-align: middle;\n",
       "    }\n",
       "\n",
       "    .dataframe tbody tr th {\n",
       "        vertical-align: top;\n",
       "    }\n",
       "\n",
       "    .dataframe thead th {\n",
       "        text-align: right;\n",
       "    }\n",
       "</style>\n",
       "<table border=\"1\" class=\"dataframe\">\n",
       "  <thead>\n",
       "    <tr style=\"text-align: right;\">\n",
       "      <th></th>\n",
       "      <th>count</th>\n",
       "      <th>mean</th>\n",
       "      <th>std</th>\n",
       "      <th>min</th>\n",
       "      <th>25%</th>\n",
       "      <th>50%</th>\n",
       "      <th>75%</th>\n",
       "      <th>max</th>\n",
       "    </tr>\n",
       "  </thead>\n",
       "  <tbody>\n",
       "    <tr>\n",
       "      <th>time_spent_on_the_page</th>\n",
       "      <td>50.0</td>\n",
       "      <td>4.5324</td>\n",
       "      <td>2.581975</td>\n",
       "      <td>0.19</td>\n",
       "      <td>2.72</td>\n",
       "      <td>4.38</td>\n",
       "      <td>6.4425</td>\n",
       "      <td>10.3</td>\n",
       "    </tr>\n",
       "  </tbody>\n",
       "</table>\n",
       "</div>"
      ],
      "text/plain": [
       "                        count    mean       std   min   25%   50%     75%  \\\n",
       "time_spent_on_the_page   50.0  4.5324  2.581975  0.19  2.72  4.38  6.4425   \n",
       "\n",
       "                         max  \n",
       "time_spent_on_the_page  10.3  "
      ]
     },
     "execution_count": 85,
     "metadata": {},
     "output_type": "execute_result"
    }
   ],
   "source": [
    "#Let's look at the summary statistics for the control group\n",
    "control_df.describe().T"
   ]
  },
  {
   "cell_type": "code",
   "execution_count": 86,
   "id": "227944e5",
   "metadata": {},
   "outputs": [
    {
     "data": {
      "text/html": [
       "<div>\n",
       "<style scoped>\n",
       "    .dataframe tbody tr th:only-of-type {\n",
       "        vertical-align: middle;\n",
       "    }\n",
       "\n",
       "    .dataframe tbody tr th {\n",
       "        vertical-align: top;\n",
       "    }\n",
       "\n",
       "    .dataframe thead th {\n",
       "        text-align: right;\n",
       "    }\n",
       "</style>\n",
       "<table border=\"1\" class=\"dataframe\">\n",
       "  <thead>\n",
       "    <tr style=\"text-align: right;\">\n",
       "      <th></th>\n",
       "      <th>count</th>\n",
       "      <th>mean</th>\n",
       "      <th>std</th>\n",
       "      <th>min</th>\n",
       "      <th>25%</th>\n",
       "      <th>50%</th>\n",
       "      <th>75%</th>\n",
       "      <th>max</th>\n",
       "    </tr>\n",
       "  </thead>\n",
       "  <tbody>\n",
       "    <tr>\n",
       "      <th>time_spent_on_the_page</th>\n",
       "      <td>50.0</td>\n",
       "      <td>6.2232</td>\n",
       "      <td>1.817031</td>\n",
       "      <td>1.65</td>\n",
       "      <td>5.175</td>\n",
       "      <td>6.105</td>\n",
       "      <td>7.16</td>\n",
       "      <td>10.71</td>\n",
       "    </tr>\n",
       "  </tbody>\n",
       "</table>\n",
       "</div>"
      ],
      "text/plain": [
       "                        count    mean       std   min    25%    50%   75%  \\\n",
       "time_spent_on_the_page   50.0  6.2232  1.817031  1.65  5.175  6.105  7.16   \n",
       "\n",
       "                          max  \n",
       "time_spent_on_the_page  10.71  "
      ]
     },
     "execution_count": 86,
     "metadata": {},
     "output_type": "execute_result"
    }
   ],
   "source": [
    "#Let's look at the summary statistics for the treatment group\n",
    "treatment_df.describe().T"
   ]
  },
  {
   "cell_type": "markdown",
   "id": "e1d425ce",
   "metadata": {},
   "source": [
    "## 1. Exploratory Data Analysis"
   ]
  },
  {
   "cell_type": "markdown",
   "id": "0ffb5835",
   "metadata": {},
   "source": [
    "#### Let's explore distribution of Time Spent on page using visualization"
   ]
  },
  {
   "cell_type": "code",
   "execution_count": 87,
   "id": "d614f85e",
   "metadata": {},
   "outputs": [],
   "source": [
    "#Create function to generate both boxplot and histogram for univariate analysis\n",
    "def univariate_distribution(data,columnname,xaxis,kde=False,hue=None,element=None):\n",
    "    #Set plot settings\n",
    "    f2, (ax_box2, ax_hist2) = plt.subplots(\n",
    "        nrows=2,  # Number of rows of the subplot grid= 2\n",
    "        sharex=True,  # x-axis will be shared among all subplots\n",
    "        gridspec_kw={\"height_ratios\": (0.25, 0.75)},\n",
    "        figsize=(7,6),)  \n",
    "    # Creating Boxplot\n",
    "    sns.boxplot(data=data, x=columnname, ax=ax_box2, showmeans=True, color='hotpink')  \n",
    "    # Creating histplot\n",
    "    sns.histplot(data=data, x=columnname, kde=kde,hue=hue,element=element, ax=ax_hist2,color='Indigo') \n",
    "    # Show mean and median in histogram\n",
    "    ax_hist2.axvline(data[columnname].mean(), color=\"green\", linestyle=\"--\")     \n",
    "    ax_hist2.axvline(data[columnname].median(), color=\"red\", linestyle=\"-\")\n",
    "    #Axis lables\n",
    "    plt.xlabel(xaxis)   # label the x-axis\n",
    "    plt.ylabel('Frequency')   # label the y-axis"
   ]
  },
  {
   "cell_type": "code",
   "execution_count": 88,
   "id": "1b41e999",
   "metadata": {},
   "outputs": [
    {
     "data": {
      "image/png": "[encoded data removed]",
      "text/plain": [
       "<Figure size 504x432 with 2 Axes>"
      ]
     },
     "metadata": {
      "needs_background": "light"
     },
     "output_type": "display_data"
    }
   ],
   "source": [
    "#Plot the time spent distribution for the control groups\n",
    "univariate_distribution(control_df,'time_spent_on_the_page','Time Spent On The Page',kde=True,element='bars')"
   ]
  },
  {
   "cell_type": "code",
   "execution_count": 89,
   "id": "11aa6fca",
   "metadata": {},
   "outputs": [
    {
     "data": {
      "image/png": "[encoded data removed]",
      "text/plain": [
       "<Figure size 504x432 with 2 Axes>"
      ]
     },
     "metadata": {
      "needs_background": "light"
     },
     "output_type": "display_data"
    }
   ],
   "source": [
    "#Plot the time spent distribution for the treatment groups\n",
    "univariate_distribution(treatment_df,'time_spent_on_the_page','Time Spent On The Page',kde=True,element='bars')"
   ]
  },
  {
   "cell_type": "code",
   "execution_count": 90,
   "id": "f6f2ae28",
   "metadata": {},
   "outputs": [
    {
     "data": {
      "image/png": "[encoded data removed]",
      "text/plain": [
       "<Figure size 360x360 with 1 Axes>"
      ]
     },
     "metadata": {
      "needs_background": "light"
     },
     "output_type": "display_data"
    }
   ],
   "source": [
    "# Compare the time spent distribution for both groups\n",
    "sns.catplot(x='time_spent_on_the_page',y = 'group', kind='violin',data=enews_df);\n",
    "plt.xlabel('Time spent on the page');   # label the x-axis\n",
    "plt.ylabel('Group');   # label the y-axis\n"
   ]
  },
  {
   "cell_type": "markdown",
   "id": "f3d12544",
   "metadata": {},
   "source": [
    "#### Observations\n",
    "* Time spent has a normal distribution for both the treatment and the control group\n",
    "* While the control group doesn't have any outliers, treatment group does have some outliers\n",
    "* Data is not skewed for either groups\n",
    "* Mean and medians are very close for both groups\n",
    "* Mean time spent on the new page is slightly higher than the mean time spent on the old page"
   ]
  },
  {
   "cell_type": "markdown",
   "id": "87eef4dc",
   "metadata": {},
   "source": [
    "#### Let's explore relationship between multiple variables using visualization"
   ]
  },
  {
   "cell_type": "markdown",
   "id": "34d6ca8a",
   "metadata": {},
   "source": [
    "###### Conversion rate and group"
   ]
  },
  {
   "cell_type": "code",
   "execution_count": 91,
   "id": "57f7a465",
   "metadata": {},
   "outputs": [
    {
     "data": {
      "image/png": "[encoded data removed]",
      "text/plain": [
       "<Figure size 504x360 with 1 Axes>"
      ]
     },
     "metadata": {
      "needs_background": "light"
     },
     "output_type": "display_data"
    }
   ],
   "source": [
    "# Let's compare the conversion status count for both treatment and control groups\n",
    "plt.figure(figsize=(7,5))\n",
    "sns.countplot(x=\"converted\",hue='group', data=enews_df)\n",
    "plt.ylabel('Frequency')\n",
    "plt.xlabel('Converted')\n",
    "plt.show()"
   ]
  },
  {
   "cell_type": "markdown",
   "id": "8cb7b295",
   "metadata": {},
   "source": [
    "#### Observations\n",
    "* Number of conversion is higher for the treatment group\n",
    "* So there seems to be a corelation between conversion and group"
   ]
  },
  {
   "cell_type": "markdown",
   "id": "c4e7399b",
   "metadata": {},
   "source": [
    "##### Conversion rate and time spent"
   ]
  },
  {
   "cell_type": "code",
   "execution_count": 103,
   "id": "7669cfee",
   "metadata": {},
   "outputs": [
    {
     "data": {
      "image/png": "[encoded data removed]",
      "text/plain": [
       "<Figure size 360x360 with 1 Axes>"
      ]
     },
     "metadata": {
      "needs_background": "light"
     },
     "output_type": "display_data"
    }
   ],
   "source": [
    "# Time spent on the page for each group by conversion status\n",
    "sns.catplot(x=\"converted\",y=\"time_spent_on_the_page\", data=enews_df, kind=\"point\")\n",
    "plt.ylabel('Time Spent On the page')\n",
    "plt.xlabel('Converted')\n",
    "plt.show()"
   ]
  },
  {
   "cell_type": "markdown",
   "id": "3a22641e",
   "metadata": {},
   "source": [
    "#### Observations\n",
    "* From the plot we see that people who converted spent more time on the page"
   ]
  },
  {
   "cell_type": "code",
   "execution_count": 102,
   "id": "429385e0",
   "metadata": {},
   "outputs": [
    {
     "data": {
      "image/png": "[encoded data removed]",
      "text/plain": [
       "<Figure size 445.875x360 with 1 Axes>"
      ]
     },
     "metadata": {
      "needs_background": "light"
     },
     "output_type": "display_data"
    }
   ],
   "source": [
    "# Now let's compare the relationship between convert status and time spent on the page for both groups\n",
    "sns.catplot(x='converted', y='time_spent_on_the_page', kind='box',hue='group', data=enews_df)\n",
    "plt.ylabel('Time Spent On the page')\n",
    "plt.xlabel('Converted')\n",
    "plt.show()"
   ]
  },
  {
   "cell_type": "markdown",
   "id": "55a4928a",
   "metadata": {},
   "source": [
    "#### Observations\n",
    "* People who converted spent significantly more time on the page for both control and treatment groups\n",
    "* The time spent on the page improved for both people who converted and did not convert in treatment group"
   ]
  },
  {
   "cell_type": "markdown",
   "id": "2cc11025",
   "metadata": {},
   "source": [
    "##### Conversion rate and preffered language"
   ]
  },
  {
   "cell_type": "code",
   "execution_count": 104,
   "id": "a7e1ca92",
   "metadata": {},
   "outputs": [],
   "source": [
    "#Create a table with counts for each conversion status by group and language preference\n",
    "conversion_count = enews_df[['language_preferred','converted','group']].value_counts()\n",
    "language_group_conversion = conversion_count.reset_index().rename(columns={0: 'conversion_count'})"
   ]
  },
  {
   "cell_type": "code",
   "execution_count": 105,
   "id": "00c46fc4",
   "metadata": {},
   "outputs": [
    {
     "data": {
      "image/png": "[encoded data removed]",
      "text/plain": [
       "<Figure size 461.575x288 with 2 Axes>"
      ]
     },
     "metadata": {
      "needs_background": "light"
     },
     "output_type": "display_data"
    }
   ],
   "source": [
    "# Generate a plot to compare the conversion count for each language preference by group\n",
    "sns.catplot(x=\"language_preferred\", y=\"conversion_count\",\n",
    "                hue=\"converted\", col=\"group\",\n",
    "                data=language_group_conversion, kind=\"bar\",\n",
    "                height=4, aspect=.7);"
   ]
  },
  {
   "cell_type": "markdown",
   "id": "e2e9e4ec",
   "metadata": {},
   "source": [
    "##### Observation \n",
    "* Conversion rate is higher in the treatment group than the control group\n",
    "* Conversion count improves the most in the treatment group for French langue audience \n",
    "* English language audience conversion is affected the least by the new page"
   ]
  },
  {
   "cell_type": "markdown",
   "id": "452b068f",
   "metadata": {},
   "source": [
    "##### Language and Total time spent"
   ]
  },
  {
   "cell_type": "code",
   "execution_count": 106,
   "id": "c7f9b479",
   "metadata": {},
   "outputs": [
    {
     "data": {
      "image/png": "[encoded data removed]",
      "text/plain": [
       "<Figure size 445.875x360 with 1 Axes>"
      ]
     },
     "metadata": {
      "needs_background": "light"
     },
     "output_type": "display_data"
    }
   ],
   "source": [
    "# Time spent on the page for each group by language preference\n",
    "sns.catplot(x='language_preferred', y='time_spent_on_the_page', kind='box',hue='group', data=enews_df)\n",
    "plt.ylabel('Total Time')\n",
    "plt.xlabel('Language Preferred')\n",
    "plt.show()"
   ]
  },
  {
   "cell_type": "markdown",
   "id": "f5567c8a",
   "metadata": {},
   "source": [
    "##### Observation \n",
    "* There seems to be some correlation between the time spent on the page and preferred language \n",
    "* Base on the sample, the mean time spent on the page improves for treatment group for all three language audience\n",
    "* The mean time spent on the page improves the most in treatment group for English language audience\n",
    "* Time spent on the page improves least for French audience which has a left skewed distribution"
   ]
  },
  {
   "cell_type": "code",
   "execution_count": null,
   "id": "706af0f3",
   "metadata": {},
   "outputs": [],
   "source": []
  },
  {
   "cell_type": "markdown",
   "id": "1a850171",
   "metadata": {},
   "source": [
    "### From our above analysis, we see possible corelation between time spent on the page, group, conversion and preferred language in the provided sample data. We would like to do further statistical analysis to confirm our hypothesis."
   ]
  },
  {
   "cell_type": "markdown",
   "id": "e864a176",
   "metadata": {},
   "source": [
    "## 2. Do the users spend more time on the new landing page than the old landing page?\n",
    "\n",
    "From our above exploration of data and the summary statistics for both the old and new sites, we noticed there is difference in the mean time spent on the page between the two groups. "
   ]
  },
  {
   "cell_type": "markdown",
   "id": "9052fdad",
   "metadata": {},
   "source": [
    "Let's plot the time spent distribution for both the new landing page and the old landing page so that we can get an understanding of the sample distribution as well as compare the mean time spent for both pages."
   ]
  },
  {
   "cell_type": "code",
   "execution_count": 107,
   "id": "cf80bcf4",
   "metadata": {},
   "outputs": [
    {
     "data": {
      "image/png": "[encoded data removed]",
      "text/plain": [
       "<Figure size 432x288 with 1 Axes>"
      ]
     },
     "metadata": {
      "needs_background": "light"
     },
     "output_type": "display_data"
    }
   ],
   "source": [
    "# Compare the time spent distribution for both groups\n",
    "#Draw kde plot for both control and treatment groups\n",
    "ax = sns.kdeplot(data=enews_df, x=\"time_spent_on_the_page\", hue=\"landing_page\")\n",
    "\n",
    "#Draw a line for the mean time spent on the old landing page\n",
    "mean_old = control_df.mean()\n",
    "kdeline1 = ax.lines[1]\n",
    "xs1 = kdeline1.get_xdata()\n",
    "ys1 = kdeline1.get_ydata()\n",
    "height1 = np.interp(mean_old, xs1, ys1)\n",
    "ax.vlines(mean_old, 0, height1, color='blue', ls=':')\n",
    "\n",
    "#Draw a line for the mean time spent on the new landing page\n",
    "mean_new = treatment_df.mean()\n",
    "kdeline2 = ax.lines[0]\n",
    "xs2 = kdeline2.get_xdata()\n",
    "ys2 = kdeline2.get_ydata()\n",
    "height2 = np.interp(mean_new, xs2, ys2)\n",
    "ax.vlines(mean_new, 0, height2, color='crimson', ls=':')\n",
    "\n",
    "#Set lables and show the plot\n",
    "plt.xlabel('Time spent on the page');   # label the x-axis\n",
    "plt.ylabel('Frequency');   # label the y-axis\n",
    "plt.show()\n",
    "\n"
   ]
  },
  {
   "cell_type": "markdown",
   "id": "5c963c93",
   "metadata": {},
   "source": [
    "Based on the above visual and our previous exploration of the data, we gather the following:\n",
    "\n",
    "* Time spent on site is a continous data, measured in minutes\n",
    "* Time spent on the site has normal distribution for both old landing page and new landing page\n",
    "* We received random sampling from the population\n",
    "* We will be comparing two sets of independent data. 50 users are selected to be in the control group receiving the old page and 50 users are selected to be in the treatment group receiving the new page\n",
    "\n",
    "In order to confirm if there is a true difference between the mean times, we will have to perform a two sample, one tailed test.\n",
    "\n",
    "As our samples have size greater than 30, we should be able to perform either the t-test and z-test to come to a conclusion. \n",
    "\n",
    "Therefore, we will be using two sample T-test to test our hypothesis. \n",
    "\n",
    "###### The level of significance used for this test will be .05"
   ]
  },
  {
   "cell_type": "markdown",
   "id": "81f9d9e4",
   "metadata": {},
   "source": [
    "#### Let's write our null and alternative hypothesis\n",
    "Let  $\\mu_n$,$\\mu_o$ be the mean time spent on the new page and mean time spent on the old page.\n",
    "\n",
    "We will test the null hypothesis\n",
    "\n",
    "> $H_0:\\mu_n=\\mu_o$\n",
    "\n",
    "against the alternate hypothesis\n",
    "\n",
    "> $H_a:\\mu_n>\\mu_o$"
   ]
  },
  {
   "cell_type": "code",
   "execution_count": 55,
   "id": "70f716c5",
   "metadata": {},
   "outputs": [
    {
     "name": "stdout",
     "output_type": "stream",
     "text": [
      "The mean time spent on the old page 4.532400000000001\n",
      "The mean time spent on the new page 6.2232\n",
      "The standard deviation of time spent for old page is 2.58\n",
      "The standard deviation of time spent for new page is  1.82\n"
     ]
    }
   ],
   "source": [
    "# find the sample means and sample standard deviations for the two samples\n",
    "print('The mean time spent on the old page ' + str(control_df['time_spent_on_the_page'].mean()))\n",
    "print('The mean time spent on the new page ' + str(treatment_df['time_spent_on_the_page'].mean()))\n",
    "print('The standard deviation of time spent for old page is ' + str(round(control_df['time_spent_on_the_page'].std(), 2)))\n",
    "print('The standard deviation of time spent for new page is  ' + str(round(treatment_df['time_spent_on_the_page'].std(), 2)))"
   ]
  },
  {
   "cell_type": "markdown",
   "id": "b1d5659d",
   "metadata": {},
   "source": [
    "#### Let's find the p-value"
   ]
  },
  {
   "cell_type": "code",
   "execution_count": 56,
   "id": "ce51b3ca",
   "metadata": {},
   "outputs": [
    {
     "name": "stdout",
     "output_type": "stream",
     "text": [
      "The p-value is  0.0001392381225166549\n"
     ]
    }
   ],
   "source": [
    "#import the required functions\n",
    "from scipy.stats import ttest_ind\n",
    "\n",
    "# find the p-value\n",
    "test_stat, p_value = ttest_ind(treatment_df['time_spent_on_the_page'],control_df['time_spent_on_the_page'], equal_var = False, alternative = 'greater')\n",
    "print('The p-value is ', p_value)"
   ]
  },
  {
   "cell_type": "markdown",
   "id": "ae9b1722",
   "metadata": {},
   "source": [
    "#### Insight\n",
    "As the p-value (~0.000139) is much less than the level of significance .05, we reject the null hypothesis. Hence we have enough evidence to say that the time spent on the new page is greater than the time spent on the old page."
   ]
  },
  {
   "cell_type": "code",
   "execution_count": null,
   "id": "305f03bc",
   "metadata": {},
   "outputs": [],
   "source": []
  },
  {
   "cell_type": "markdown",
   "id": "a0f0f39f",
   "metadata": {},
   "source": [
    "## 3. Is the conversion rate for the new page greater than the conversion rate for the old page?\n",
    "Is the conversion rate (the proportion of users who visit the landing page and get converted) for the new page greater than the conversion rate for the old page?\n",
    "\n",
    "Let's generate a visual representation of these two variables for each group to get a clear picture. "
   ]
  },
  {
   "cell_type": "code",
   "execution_count": 109,
   "id": "403fa363",
   "metadata": {},
   "outputs": [
    {
     "data": {
      "image/png": "[encoded data removed]",
      "text/plain": [
       "<Figure size 418.375x360 with 1 Axes>"
      ]
     },
     "metadata": {
      "needs_background": "light"
     },
     "output_type": "display_data"
    }
   ],
   "source": [
    "# Let's compare the conversion status percent for both treatment and control groups\n",
    "ax = sns.catplot(x=\"group\",hue='converted', data=enews_df,kind='count')\n",
    "#Add the percent for each bar as annotation\n",
    "for p in ax.ax.patches:\n",
    "    ax.ax.annotate(f'\\n{p.get_height()/50}', (p.get_x()+0.2, p.get_height()), ha='center', va='top', color='white', size=18)\n",
    "plt.ylabel('Frequency')\n",
    "plt.xlabel('Converted')\n",
    "plt.show()"
   ]
  },
  {
   "cell_type": "markdown",
   "id": "83c6759a",
   "metadata": {},
   "source": [
    "From the above visual and our analysis of the data, this is what we observe:\n",
    "\n",
    "* Percent of converted (yes) is clearly higher for the treatment group compared to the control group\n",
    "* Binomially distributed population. A user is either converted or not\n",
    "* Random sampling from the population\n",
    "* The sample size for both samples are 50. As the sample sizes are larger than 30, we can assume the binomial distribution approaximate to normal distribution. "
   ]
  },
  {
   "cell_type": "markdown",
   "id": "f79e48a5",
   "metadata": {},
   "source": [
    "We can confirm this assumption through the below calculations. We will check if np and n(1-p) are greater than or equal to 10 for both samples. Here, n and p refer to the sample size and sample proportion respectively."
   ]
  },
  {
   "cell_type": "code",
   "execution_count": 78,
   "id": "53d426a7",
   "metadata": {},
   "outputs": [
    {
     "name": "stdout",
     "output_type": "stream",
     "text": [
      "The proportion of users converted on the new site 0.66\n",
      "The proportion of users converted on the old site 0.42\n"
     ]
    }
   ],
   "source": [
    "#Let's find the proportions of users converted for both the old and new page\n",
    "p_new = treatment_df[treatment_df['converted'] == 'yes']['converted'].count()/treatment_df['converted'].count()\n",
    "p_old = control_df[control_df['converted'] == 'yes']['converted'].count()/control_df['converted'].count()\n",
    "\n",
    "print('The proportion of users converted on the new site ' + str(p_new))\n",
    "print('The proportion of users converted on the old site ' + str(p_old))"
   ]
  },
  {
   "cell_type": "code",
   "execution_count": 79,
   "id": "afd9e0c4",
   "metadata": {},
   "outputs": [
    {
     "name": "stdout",
     "output_type": "stream",
     "text": [
      "np for new site is 33.0 which is > 10\n",
      "n(1-p) for new site is 17.0 which is > 10\n",
      "np for old site is 21.0 which is > 10\n",
      "n(1-p) old new site is 29.0 which is > 10\n"
     ]
    }
   ],
   "source": [
    "#Check if np and n(1-p) are greater than or equal to 10 for both samples\n",
    "\n",
    "#Sample size is 50 for both old and new site data\n",
    "n = 50 \n",
    "\n",
    "#For new site samples, \n",
    "print('np for new site is ' + str(n*p_new) + ' which is > 10')\n",
    "print('n(1-p) for new site is ' + str(n*(1-p_new)) + ' which is > 10')\n",
    "\n",
    "#For old site samples,\n",
    "print('np for old site is ' + str(n*p_old) + ' which is > 10')\n",
    "print('n(1-p) old new site is ' + str(round(n*(1-p_old),2)) + ' which is > 10')\n"
   ]
  },
  {
   "cell_type": "markdown",
   "id": "29a954a2",
   "metadata": {},
   "source": [
    "We can safely assume that the binomila distribution approaximates normal distribution. \n",
    "\n",
    "Therefore we can use Two Proportion Z-test for our analysis. \n",
    "\n",
    "###### The level of significance used for this test will be .05"
   ]
  },
  {
   "cell_type": "markdown",
   "id": "30680a6d",
   "metadata": {},
   "source": [
    "#### Let's write the null and alternative hypothesis\n",
    "Let $p_n,p_o$ be the proportions of conversion in new site and old site respectively.\n",
    "\n",
    "We will test the following null hypothesis\n",
    "\n",
    ">$H_0:p_n =p_o$\n",
    "\n",
    "against the alternate hypothesis\n",
    "\n",
    ">$H_a:p_n > p_o$"
   ]
  },
  {
   "cell_type": "markdown",
   "id": "09a374b3",
   "metadata": {},
   "source": [
    "#### Let's find the p-value\n",
    "\n",
    "From the above calculations, we see that conversion rate in new and old sites are different. We will calculate the p-value below to check if this difference is significant. "
   ]
  },
  {
   "cell_type": "code",
   "execution_count": 80,
   "id": "31d2f8a9",
   "metadata": {},
   "outputs": [
    {
     "name": "stdout",
     "output_type": "stream",
     "text": [
      "The p-value is 0.016052616408112556\n"
     ]
    }
   ],
   "source": [
    "# Import the required fuction\n",
    "from statsmodels.stats.proportion import proportions_ztest\n",
    "\n",
    "# Set the counts of conversion\n",
    "conversion_count_new = treatment_df[treatment_df['converted'] == 'yes']['converted'].count()\n",
    "conversion_count_old = control_df[control_df['converted'] == 'yes']['converted'].count()\n",
    "\n",
    "# Set the sample sizes\n",
    "total_count_new = treatment_df['converted'].count()\n",
    "total_count_old = control_df['converted'].count()\n",
    "\n",
    "# Find the p-value\n",
    "test_stat, p_value = proportions_ztest([conversion_count_new,conversion_count_old], [total_count_new,total_count_old])\n",
    "print('The p-value is ' + str(p_value))"
   ]
  },
  {
   "cell_type": "markdown",
   "id": "3ad66361",
   "metadata": {},
   "source": [
    "###### Insight\n",
    "As the p-value (~0.01605) is much less than the level of significance .05, we reject the null hypothesis. Hence, we have enough evidence to say that the conversion rate for the new page was greater than the conversion rate for the old page"
   ]
  },
  {
   "cell_type": "code",
   "execution_count": null,
   "id": "a2c36dde",
   "metadata": {},
   "outputs": [],
   "source": []
  },
  {
   "cell_type": "markdown",
   "id": "e701c5ae",
   "metadata": {},
   "source": [
    "## 4. Does the converted status depend on the preferred language?\n",
    "Does the converted status depend on the preferred language? \n",
    "\n",
    "Let's take a look at a count plot depicting number of converted for each language preffered side by side to spot any similarities or difference between the demgraphics.\n"
   ]
  },
  {
   "cell_type": "code",
   "execution_count": 108,
   "id": "f857a8cb",
   "metadata": {},
   "outputs": [
    {
     "data": {
      "image/png": "[encoded data removed]",
      "text/plain": [
       "<Figure size 418.375x360 with 1 Axes>"
      ]
     },
     "metadata": {
      "needs_background": "light"
     },
     "output_type": "display_data"
    }
   ],
   "source": [
    "# Time spent on the page for each group by language preference\n",
    "ax = sns.catplot(x='language_preferred', kind='count',hue='converted', data=enews_df)\n",
    "for p in ax.ax.patches:\n",
    "    ax.ax.annotate(f'\\n{p.get_height()}', (p.get_x()+0.2, p.get_height()), ha='center', va='top', color='white', size=18)\n",
    "plt.ylabel('Frequency')\n",
    "plt.xlabel('Language Preferred')\n",
    "plt.show()"
   ]
  },
  {
   "cell_type": "markdown",
   "id": "86c707bb",
   "metadata": {},
   "source": [
    "From the visualization we see:\n",
    "* Both Spanish and English has a higher count for Yes than No\n",
    "* However for French, we see a higher count of No than Yes\n",
    "\n",
    "Therefore it's hard to make an assumption as to whether the language preference has any effect on conversion rate"
   ]
  },
  {
   "cell_type": "markdown",
   "id": "bffa536d",
   "metadata": {},
   "source": [
    "Here we will have to depend on the Chi-Square Test for Independence to verify if the converted status is dependent on the preffered language. \n",
    "\n",
    "#### Let's test whether the assumptions for Chi-Square Test for Independence are satisfied or not\n",
    "* Categorical variables - Yes\n",
    "* Expected value of the number of sample observations in each level of the variable is at least 5 - Yes, the number of observations in each level is greater than 5.\n",
    "* Random sampling from the population - Yes, we are informed that the collected sample is a simple random sample.\n",
    "\n",
    "##### The level of significance used for this test will be .05"
   ]
  },
  {
   "cell_type": "markdown",
   "id": "3bd183a2",
   "metadata": {},
   "source": [
    "#### Let's write the null and alternative hypothesis\n",
    "We will test the below null hypothesis\n",
    "\n",
    ">$H_0:$  Converted status is independent of the preferred language\n",
    "\n",
    "against the alternate hypothesis\n",
    "\n",
    ">$H_a:$  Converted status is dependent on the preferred language"
   ]
  },
  {
   "cell_type": "code",
   "execution_count": 40,
   "id": "cc8fba94",
   "metadata": {},
   "outputs": [
    {
     "data": {
      "text/html": [
       "<div>\n",
       "<style scoped>\n",
       "    .dataframe tbody tr th:only-of-type {\n",
       "        vertical-align: middle;\n",
       "    }\n",
       "\n",
       "    .dataframe tbody tr th {\n",
       "        vertical-align: top;\n",
       "    }\n",
       "\n",
       "    .dataframe thead th {\n",
       "        text-align: right;\n",
       "    }\n",
       "</style>\n",
       "<table border=\"1\" class=\"dataframe\">\n",
       "  <thead>\n",
       "    <tr style=\"text-align: right;\">\n",
       "      <th>converted</th>\n",
       "      <th>no</th>\n",
       "      <th>yes</th>\n",
       "    </tr>\n",
       "    <tr>\n",
       "      <th>language_preferred</th>\n",
       "      <th></th>\n",
       "      <th></th>\n",
       "    </tr>\n",
       "  </thead>\n",
       "  <tbody>\n",
       "    <tr>\n",
       "      <th>English</th>\n",
       "      <td>11</td>\n",
       "      <td>21</td>\n",
       "    </tr>\n",
       "    <tr>\n",
       "      <th>French</th>\n",
       "      <td>19</td>\n",
       "      <td>15</td>\n",
       "    </tr>\n",
       "    <tr>\n",
       "      <th>Spanish</th>\n",
       "      <td>16</td>\n",
       "      <td>18</td>\n",
       "    </tr>\n",
       "  </tbody>\n",
       "</table>\n",
       "</div>"
      ],
      "text/plain": [
       "converted           no  yes\n",
       "language_preferred         \n",
       "English             11   21\n",
       "French              19   15\n",
       "Spanish             16   18"
      ]
     },
     "execution_count": 40,
     "metadata": {},
     "output_type": "execute_result"
    }
   ],
   "source": [
    "#Create contingency table using Cross tab\n",
    "crosstab_df = pd.crosstab(index=[enews_df['language_preferred']],columns=enews_df['converted'])\n",
    "crosstab_df.head()"
   ]
  },
  {
   "cell_type": "markdown",
   "id": "9e9dbab9",
   "metadata": {},
   "source": [
    "#### Let's find the p-value"
   ]
  },
  {
   "cell_type": "code",
   "execution_count": 15,
   "id": "6605c62f",
   "metadata": {},
   "outputs": [
    {
     "name": "stdout",
     "output_type": "stream",
     "text": [
      "The p-value is 0.2129888748754345\n"
     ]
    }
   ],
   "source": [
    "# Import the required function\n",
    "from scipy.stats import chi2_contingency\n",
    "\n",
    "# Find the p-value\n",
    "chi, p_value, dof, expected = chi2_contingency(crosstab_df)\n",
    "print('The p-value is', p_value)"
   ]
  },
  {
   "cell_type": "markdown",
   "id": "0af3439e",
   "metadata": {},
   "source": [
    "#### Insight\n",
    "As the p-value 0.21 is much greater than the level of significance .05, we fail to reject the null hypothesis. Hence, we do not have enough statistical significance to conclude that the conversion status is independent of the preffered language at 5% significance level."
   ]
  },
  {
   "cell_type": "markdown",
   "id": "c6dd6808",
   "metadata": {},
   "source": [
    "## 5. Is the mean time spent on the new page same for the different language users?"
   ]
  },
  {
   "cell_type": "markdown",
   "id": "b6c9effe",
   "metadata": {},
   "source": [
    "Is the mean time spent on the new page same for the different language users?\n",
    "\n",
    "First let's explore the differences between the mean time spent for different language users by comparing the mean time for each language demographic for the new page."
   ]
  },
  {
   "cell_type": "code",
   "execution_count": 114,
   "id": "52466934",
   "metadata": {},
   "outputs": [
    {
     "data": {
      "text/html": [
       "<div>\n",
       "<style scoped>\n",
       "    .dataframe tbody tr th:only-of-type {\n",
       "        vertical-align: middle;\n",
       "    }\n",
       "\n",
       "    .dataframe tbody tr th {\n",
       "        vertical-align: top;\n",
       "    }\n",
       "\n",
       "    .dataframe thead th {\n",
       "        text-align: right;\n",
       "    }\n",
       "</style>\n",
       "<table border=\"1\" class=\"dataframe\">\n",
       "  <thead>\n",
       "    <tr style=\"text-align: right;\">\n",
       "      <th></th>\n",
       "      <th>time_spent_on_the_page</th>\n",
       "    </tr>\n",
       "    <tr>\n",
       "      <th>language_preferred</th>\n",
       "      <th></th>\n",
       "    </tr>\n",
       "  </thead>\n",
       "  <tbody>\n",
       "    <tr>\n",
       "      <th>English</th>\n",
       "      <td>6.663750</td>\n",
       "    </tr>\n",
       "    <tr>\n",
       "      <th>French</th>\n",
       "      <td>6.196471</td>\n",
       "    </tr>\n",
       "    <tr>\n",
       "      <th>Spanish</th>\n",
       "      <td>5.835294</td>\n",
       "    </tr>\n",
       "  </tbody>\n",
       "</table>\n",
       "</div>"
      ],
      "text/plain": [
       "                    time_spent_on_the_page\n",
       "language_preferred                        \n",
       "English                           6.663750\n",
       "French                            6.196471\n",
       "Spanish                           5.835294"
      ]
     },
     "execution_count": 114,
     "metadata": {},
     "output_type": "execute_result"
    }
   ],
   "source": [
    "#Let's calculate the mean time for each language for our reference\n",
    "treatment_df.groupby(['language_preferred']).mean()"
   ]
  },
  {
   "cell_type": "markdown",
   "id": "424dbe8e",
   "metadata": {},
   "source": [
    "We can get better insight by comparing the boxplot of time spent for each language for the treatment group"
   ]
  },
  {
   "cell_type": "code",
   "execution_count": 110,
   "id": "9db7b53c",
   "metadata": {},
   "outputs": [
    {
     "data": {
      "image/png": "[encoded data removed]",
      "text/plain": [
       "<Figure size 360x360 with 1 Axes>"
      ]
     },
     "metadata": {
      "needs_background": "light"
     },
     "output_type": "display_data"
    }
   ],
   "source": [
    "# Time spent on the page for each group by language preference\n",
    "sns.catplot(x='time_spent_on_the_page',y='language_preferred', kind='box', data=treatment_df)\n",
    "plt.ylabel('Total Time')\n",
    "plt.xlabel('Language Preferred')\n",
    "plt.show()"
   ]
  },
  {
   "cell_type": "markdown",
   "id": "fd468cc9",
   "metadata": {},
   "source": [
    "##### Observation\n",
    "We observe slight differences in the mean time for each language demographics in the treatment group. However, we would need to perform further statistical analysis to prove our hypothesis. \n",
    "In this case, we will apply One-way ANOVA Test."
   ]
  },
  {
   "cell_type": "markdown",
   "id": "25964781",
   "metadata": {},
   "source": [
    "### Let's write the null and alternative hypothesis\n",
    "\n",
    "Let $\\mu_e, \\mu_s, \\mu_f$ be the mean time spent on the new page for English, Spanish and French language demographic respectively\n",
    "\n",
    "We will test the null hypothesis\n",
    "\n",
    ">$H_0: \\mu_e = \\mu_s = \\mu_f$\n",
    "\n",
    "against the alternative hypothesis\n",
    "\n",
    ">$H_a: $ At least one mean time spent is different from the rest.\n"
   ]
  },
  {
   "cell_type": "markdown",
   "id": "5f649e69",
   "metadata": {},
   "source": [
    "Now, the normality and equality of variance assumptions need to be checked. \n",
    "\n",
    "For testing of normality, Shapiro-Wilk’s test will be applied to the mean time spent.\n",
    "\n",
    "For equality of variance, Levene test will be applied to the mean time spent."
   ]
  },
  {
   "cell_type": "markdown",
   "id": "71d01731",
   "metadata": {},
   "source": [
    "### Shapiro-Wilk’s test\n",
    "\n",
    "We will test the null hypothesis\n",
    "\n",
    ">$H_0:$ Mean time spent follows a normal distribution against\n",
    "\n",
    "against the alternative hypothesis\n",
    "\n",
    ">$H_a:$ Mean time spent does not follow a normal distribution"
   ]
  },
  {
   "cell_type": "code",
   "execution_count": 120,
   "id": "434fbe69",
   "metadata": {},
   "outputs": [
    {
     "name": "stdout",
     "output_type": "stream",
     "text": [
      "The p-value is 0.8040016293525696\n"
     ]
    }
   ],
   "source": [
    "# Test Normality\n",
    "# import the required function\n",
    "from scipy import stats\n",
    "\n",
    "# find the p-value\n",
    "w, p_value = stats.shapiro(treatment_df['time_spent_on_the_page']) \n",
    "print('The p-value is', p_value)"
   ]
  },
  {
   "cell_type": "markdown",
   "id": "818efb43",
   "metadata": {},
   "source": [
    "Since p-value of the test 0.8040 is very large, we fail to reject the null hypothesis that the time spent follows the normal distribution."
   ]
  },
  {
   "cell_type": "markdown",
   "id": "56a8b7a7",
   "metadata": {},
   "source": [
    "### Levene’s test\n",
    "\n",
    "We will test the null hypothesis\n",
    "\n",
    ">$H_0$: All the population variances are equal\n",
    "\n",
    "against the alternative hypothesis\n",
    "\n",
    ">$H_a$: At least one variance is different from the rest"
   ]
  },
  {
   "cell_type": "code",
   "execution_count": 121,
   "id": "ff444f9e",
   "metadata": {},
   "outputs": [
    {
     "name": "stdout",
     "output_type": "stream",
     "text": [
      "The p-value is 0.46711357711340173\n"
     ]
    }
   ],
   "source": [
    "#Test Homogeneity of Variance\n",
    "#import the required function\n",
    "from scipy.stats import levene\n",
    "statistic, p_value = levene( treatment_df['time_spent_on_the_page'][treatment_df['language_preferred']=='English'], \n",
    "                                   treatment_df['time_spent_on_the_page'][treatment_df['language_preferred']=='Spanish'], \n",
    "                                   treatment_df['time_spent_on_the_page'][treatment_df['language_preferred']=='French'])\n",
    "# find the p-value\n",
    "print('The p-value is', p_value)"
   ]
  },
  {
   "cell_type": "markdown",
   "id": "ac67deed",
   "metadata": {},
   "source": [
    "Since p-value of the test 0.4671 is large, we fail to reject the null hypothesis of homogeneity of variances."
   ]
  },
  {
   "cell_type": "markdown",
   "id": "393c3056",
   "metadata": {},
   "source": [
    "### Let's test whether the assumptions are satisfied or not\n",
    "\n",
    "* The populations are normally distributed - Yes, the normality assumption is verified using the Shapiro-Wilk’s test.\n",
    "* Samples are independent simple random samples - Yes.\n",
    "* Population variances are equal - Yes, the homogeneity of variance assumption is verified using the Levene's test.\n"
   ]
  },
  {
   "cell_type": "markdown",
   "id": "a0045f19",
   "metadata": {},
   "source": [
    "### Let's find the p-value"
   ]
  },
  {
   "cell_type": "code",
   "execution_count": 22,
   "id": "c7efbeda",
   "metadata": {},
   "outputs": [
    {
     "name": "stdout",
     "output_type": "stream",
     "text": [
      "The p-value is 0.43204138694325955\n"
     ]
    }
   ],
   "source": [
    "#import the required function\n",
    "from scipy.stats import f_oneway\n",
    "\n",
    "# perform one-way anova test\n",
    "test_stat, p_value = f_oneway( treatment_df['time_spent_on_the_page'][treatment_df['language_preferred']=='English'], \n",
    "                                   treatment_df['time_spent_on_the_page'][treatment_df['language_preferred']=='Spanish'], \n",
    "                                   treatment_df['time_spent_on_the_page'][treatment_df['language_preferred']=='French'])\n",
    "print('The p-value is ' + str(p_value))"
   ]
  },
  {
   "cell_type": "markdown",
   "id": "e2e6cd2e",
   "metadata": {},
   "source": [
    "### Insight\n",
    "As the p-value is much greater than the significance level .05, we fail to reject the null hypothesis. Hence, we do not have enough statistical significance to conclude that for the treatment group, at least one mean time spent is different from the rest at 5% significance level.\n"
   ]
  },
  {
   "cell_type": "code",
   "execution_count": null,
   "id": "c6210e71",
   "metadata": {},
   "outputs": [],
   "source": []
  }
 ],
 "metadata": {
  "kernelspec": {
   "display_name": "Python 3",
   "language": "python",
   "name": "python3"
  },
  "language_info": {
   "codemirror_mode": {
    "name": "ipython",
    "version": 3
   },
   "file_extension": ".py",
   "mimetype": "text/x-python",
   "name": "python",
   "nbconvert_exporter": "python",
   "pygments_lexer": "ipython3",
   "version": "3.8.8"
  }
 },
 "nbformat": 4,
 "nbformat_minor": 5
}
